{
 "cells": [
  {
   "cell_type": "markdown",
   "metadata": {},
   "source": [
    "**Dictionary**\n",
    "\n",
    "* Index ile erişilemezler. Unordered yani sıralı değildir.\n",
    "* key value mantığında tutulur. Değerlere key üzerinden erişiriz.\n",
    "* Dict. değiştirilebilir yani mutable'dır.\n",
    "* {} içerisinde tanımlanır. key-value çiftini virgüllerle ayrılır.\n",
    "* Farklı tipte veriler içerebilir. \n",
    "* key değerleri unique olacak ama taşıdıkları değerler duplicate olabilir."
   ]
  },
  {
   "cell_type": "markdown",
   "metadata": {},
   "source": [
    "**Dictionary oluşturma yöntemleri**\n",
    "\n",
    "* {} ile boş bir sözlük oluşturulur. \n",
    "* dict"
   ]
  },
  {
   "cell_type": "code",
   "execution_count": 1,
   "metadata": {},
   "outputs": [
    {
     "data": {
      "text/plain": [
       "{'name': 'Büşranur',\n",
       " 'company': 'Turkcell',\n",
       " 'age': 25,\n",
       " 'isFemale': True,\n",
       " 'salary': 10000.5}"
      ]
     },
     "execution_count": 1,
     "metadata": {},
     "output_type": "execute_result"
    }
   ],
   "source": [
    "my_dict = {\n",
    "    \"name\":\"Büşranur\", \n",
    "    \"company\":\"Turkcell\",\n",
    "    \"age\":25,\n",
    "    \"isFemale\":True,\n",
    "    \"salary\":10000.50\n",
    "    }\n",
    "\n",
    "my_dict"
   ]
  },
  {
   "cell_type": "code",
   "execution_count": 2,
   "metadata": {},
   "outputs": [
    {
     "data": {
      "text/plain": [
       "{'name': 'Büşranur',\n",
       " 'company': 'Turkcell',\n",
       " 'title': ['AI & ML Engineer', 'Data Scientist', 'Backend Developer'],\n",
       " 'age': 25,\n",
       " 'isFemale': True,\n",
       " 'salary': 10000.5}"
      ]
     },
     "execution_count": 2,
     "metadata": {},
     "output_type": "execute_result"
    }
   ],
   "source": [
    "my_dict = {\n",
    "    \"name\":\"Büşranur\", \n",
    "    \"company\":\"Turkcell\",\n",
    "    \"title\":[\"AI & ML Engineer\", \"Data Scientist\", \"Backend Developer\"],\n",
    "    \"age\":25,\n",
    "    \"isFemale\":True,\n",
    "    \"salary\":10000.50\n",
    "    }\n",
    "\n",
    "my_dict"
   ]
  },
  {
   "cell_type": "code",
   "execution_count": 3,
   "metadata": {},
   "outputs": [
    {
     "data": {
      "text/plain": [
       "{'first_name': 'Menekşe', 'last_name': 'Avcı'}"
      ]
     },
     "execution_count": 3,
     "metadata": {},
     "output_type": "execute_result"
    }
   ],
   "source": [
    "my_dict = dict({\"first_name\":\"Menekşe\", \"last_name\":\"Avcı\"})\n",
    "\n",
    "my_dict"
   ]
  },
  {
   "cell_type": "code",
   "execution_count": 4,
   "metadata": {},
   "outputs": [
    {
     "data": {
      "text/plain": [
       "dict"
      ]
     },
     "execution_count": 4,
     "metadata": {},
     "output_type": "execute_result"
    }
   ],
   "source": [
    "type(my_dict)"
   ]
  },
  {
   "cell_type": "markdown",
   "metadata": {},
   "source": [
    "**Sözlük elemanlarına erişim**\n",
    "\n",
    "* [] içinde key değerini vererek\n",
    "* get() içinde key değerini vererek"
   ]
  },
  {
   "cell_type": "code",
   "execution_count": 5,
   "metadata": {},
   "outputs": [
    {
     "data": {
      "text/plain": [
       "{'blue': 'mavi',\n",
       " 'red': 'kırmızı',\n",
       " 'yellow': 'sarı',\n",
       " 'pink': 'pembe',\n",
       " 'green': 'yeşil'}"
      ]
     },
     "execution_count": 5,
     "metadata": {},
     "output_type": "execute_result"
    }
   ],
   "source": [
    "colors = {\n",
    "    \"blue\":\"mavi\",\n",
    "    \"red\":\"kırmızı\",\n",
    "    \"yellow\":\"sarı\",\n",
    "    \"pink\":\"pembe\",\n",
    "    \"green\":\"yeşil\"\n",
    "}\n",
    "\n",
    "colors"
   ]
  },
  {
   "cell_type": "code",
   "execution_count": 6,
   "metadata": {},
   "outputs": [
    {
     "data": {
      "text/plain": [
       "'pembe'"
      ]
     },
     "execution_count": 6,
     "metadata": {},
     "output_type": "execute_result"
    }
   ],
   "source": [
    "colors[\"pink\"]"
   ]
  },
  {
   "cell_type": "code",
   "execution_count": 7,
   "metadata": {},
   "outputs": [
    {
     "data": {
      "text/plain": [
       "'mavi'"
      ]
     },
     "execution_count": 7,
     "metadata": {},
     "output_type": "execute_result"
    }
   ],
   "source": [
    "colors.get(\"blue\")"
   ]
  },
  {
   "cell_type": "code",
   "execution_count": 8,
   "metadata": {},
   "outputs": [
    {
     "data": {
      "text/plain": [
       "dict_keys(['blue', 'red', 'yellow', 'pink', 'green'])"
      ]
     },
     "execution_count": 8,
     "metadata": {},
     "output_type": "execute_result"
    }
   ],
   "source": [
    "#sözlükte yer alan tüm key değerlerine erişim\n",
    "colors.keys()"
   ]
  },
  {
   "cell_type": "code",
   "execution_count": 9,
   "metadata": {},
   "outputs": [
    {
     "data": {
      "text/plain": [
       "dict_values(['mavi', 'kırmızı', 'sarı', 'pembe', 'yeşil'])"
      ]
     },
     "execution_count": 9,
     "metadata": {},
     "output_type": "execute_result"
    }
   ],
   "source": [
    "#sözlükte yer alan tüm value değerlerine erişim\n",
    "colors.values()"
   ]
  },
  {
   "cell_type": "code",
   "execution_count": 10,
   "metadata": {},
   "outputs": [
    {
     "data": {
      "text/plain": [
       "dict_items([('blue', 'mavi'), ('red', 'kırmızı'), ('yellow', 'sarı'), ('pink', 'pembe'), ('green', 'yeşil')])"
      ]
     },
     "execution_count": 10,
     "metadata": {},
     "output_type": "execute_result"
    }
   ],
   "source": [
    "#key-value çiftine erişmek istersek\n",
    "colors.items()"
   ]
  },
  {
   "cell_type": "markdown",
   "metadata": {},
   "source": [
    "Döngü ile erişim"
   ]
  },
  {
   "cell_type": "code",
   "execution_count": 11,
   "metadata": {},
   "outputs": [
    {
     "name": "stdout",
     "output_type": "stream",
     "text": [
      "blue\n",
      "red\n",
      "yellow\n",
      "pink\n",
      "green\n"
     ]
    }
   ],
   "source": [
    "colors = {\n",
    "    \"blue\":\"mavi\",\n",
    "    \"red\":\"kırmızı\",\n",
    "    \"yellow\":\"sarı\",\n",
    "    \"pink\":\"pembe\",\n",
    "    \"green\":\"yeşil\"\n",
    "}\n",
    "\n",
    "for i in colors.keys():\n",
    "    print(i)"
   ]
  },
  {
   "cell_type": "code",
   "execution_count": 12,
   "metadata": {},
   "outputs": [
    {
     "name": "stdout",
     "output_type": "stream",
     "text": [
      "mavi\n",
      "kırmızı\n",
      "sarı\n",
      "pembe\n",
      "yeşil\n"
     ]
    }
   ],
   "source": [
    "for i in colors.values():\n",
    "    print(i)"
   ]
  },
  {
   "cell_type": "code",
   "execution_count": 13,
   "metadata": {},
   "outputs": [
    {
     "name": "stdout",
     "output_type": "stream",
     "text": [
      "('blue', 'mavi')\n",
      "('red', 'kırmızı')\n",
      "('yellow', 'sarı')\n",
      "('pink', 'pembe')\n",
      "('green', 'yeşil')\n"
     ]
    }
   ],
   "source": [
    "for i in colors.items():\n",
    "    print(i)"
   ]
  },
  {
   "cell_type": "code",
   "execution_count": 14,
   "metadata": {},
   "outputs": [
    {
     "name": "stdout",
     "output_type": "stream",
     "text": [
      "key: blue --- value: mavi\n",
      "key: red --- value: kırmızı\n",
      "key: yellow --- value: sarı\n",
      "key: pink --- value: pembe\n",
      "key: green --- value: yeşil\n"
     ]
    }
   ],
   "source": [
    "for i in colors.items():\n",
    "    print(f\"key: {i[0]} --- value: {i[1]}\")"
   ]
  },
  {
   "cell_type": "code",
   "execution_count": 15,
   "metadata": {},
   "outputs": [
    {
     "name": "stdout",
     "output_type": "stream",
     "text": [
      "Sözlüğün uzunluğu:  5\n"
     ]
    }
   ],
   "source": [
    "print(\"Sözlüğün uzunluğu: \", len(colors))"
   ]
  },
  {
   "cell_type": "markdown",
   "metadata": {},
   "source": [
    "**Sözlüğe eleman ekleme**\n",
    "\n",
    "* key-value atama işlemi ile (Eğer key yoksa yeni atama olarak ekleme yapar, varsa value değerini update eder.)\n",
    "* update() metodu ile"
   ]
  },
  {
   "cell_type": "code",
   "execution_count": 16,
   "metadata": {},
   "outputs": [
    {
     "data": {
      "text/plain": [
       "{1990: 'Friends',\n",
       " 1991: 'Person of Interest',\n",
       " 1992: 'Heartland',\n",
       " 1993: 'Doctor Who',\n",
       " 1994: 'Merlin'}"
      ]
     },
     "execution_count": 16,
     "metadata": {},
     "output_type": "execute_result"
    }
   ],
   "source": [
    "movies = {\n",
    "    1990: \"Friends\",\n",
    "    1991: \"Person of Interest\",\n",
    "    1992: \"Heartland\",\n",
    "    1993: \"Doctor Who\",\n",
    "    1994: \"Merlin\"\n",
    "}\n",
    "\n",
    "movies"
   ]
  },
  {
   "cell_type": "code",
   "execution_count": 17,
   "metadata": {},
   "outputs": [
    {
     "data": {
      "text/plain": [
       "{1990: 'Friends',\n",
       " 1991: 'Person of Interest',\n",
       " 1992: 'Heartland',\n",
       " 1993: 'Doctor Who',\n",
       " 1994: 'Merlin',\n",
       " 1995: 'Harry Potter'}"
      ]
     },
     "execution_count": 17,
     "metadata": {},
     "output_type": "execute_result"
    }
   ],
   "source": [
    "movies[1995] = \"Harry Potter\"\n",
    "\n",
    "movies"
   ]
  },
  {
   "cell_type": "code",
   "execution_count": 18,
   "metadata": {},
   "outputs": [
    {
     "data": {
      "text/plain": [
       "{1990: 'Friends',\n",
       " 1991: 'Person of Interest',\n",
       " 1992: 'Heartland',\n",
       " 1993: 'Doctor Who',\n",
       " 1994: 'The Big Bang Theory',\n",
       " 1995: 'Harry Potter'}"
      ]
     },
     "execution_count": 18,
     "metadata": {},
     "output_type": "execute_result"
    }
   ],
   "source": [
    "movies[1994] = \"The Big Bang Theory\"\n",
    "\n",
    "movies"
   ]
  },
  {
   "cell_type": "code",
   "execution_count": 19,
   "metadata": {},
   "outputs": [
    {
     "data": {
      "text/plain": [
       "{1990: 'Friends',\n",
       " 1991: 'Person of Interest',\n",
       " 1992: 'Heartland',\n",
       " 1993: 'The Queen Gambit',\n",
       " 1994: 'The Big Bang Theory',\n",
       " 1995: 'Harry Potter',\n",
       " 1996: 'Squid Game'}"
      ]
     },
     "execution_count": 19,
     "metadata": {},
     "output_type": "execute_result"
    }
   ],
   "source": [
    "movies.update({1996:\"Squid Game\", 1993:\"The Queen Gambit\"})\n",
    "\n",
    "movies"
   ]
  },
  {
   "cell_type": "markdown",
   "metadata": {},
   "source": [
    "**Silme İşlemleri**\n",
    "\n",
    "* del key\n",
    "* clear()\n",
    "* del dict_name\n",
    "* popitem()\n",
    "* pop(key)"
   ]
  },
  {
   "cell_type": "code",
   "execution_count": 20,
   "metadata": {},
   "outputs": [
    {
     "data": {
      "text/plain": [
       "{'name': 'İrem',\n",
       " 'TCKN': 21432151,\n",
       " 'start_date': 2019,\n",
       " 'title': 'AI&ML Engineer'}"
      ]
     },
     "execution_count": 20,
     "metadata": {},
     "output_type": "execute_result"
    }
   ],
   "source": [
    "personel_info = {\n",
    "    \"name\":\"İrem\",\n",
    "    \"TCKN\":21432151,\n",
    "    \"start_date\":2019,\n",
    "    \"title\":\"AI&ML Engineer\"\n",
    "}\n",
    "\n",
    "personel_info"
   ]
  },
  {
   "cell_type": "code",
   "execution_count": 21,
   "metadata": {},
   "outputs": [
    {
     "data": {
      "text/plain": [
       "{'name': 'İrem', 'TCKN': 21432151, 'title': 'AI&ML Engineer'}"
      ]
     },
     "execution_count": 21,
     "metadata": {},
     "output_type": "execute_result"
    }
   ],
   "source": [
    "#del key\n",
    "del personel_info[\"start_date\"]\n",
    "\n",
    "personel_info"
   ]
  },
  {
   "cell_type": "code",
   "execution_count": 22,
   "metadata": {},
   "outputs": [
    {
     "data": {
      "text/plain": [
       "{}"
      ]
     },
     "execution_count": 22,
     "metadata": {},
     "output_type": "execute_result"
    }
   ],
   "source": [
    "#clear() \n",
    "personel_info.clear()\n",
    "\n",
    "personel_info"
   ]
  },
  {
   "cell_type": "code",
   "execution_count": 23,
   "metadata": {},
   "outputs": [
    {
     "ename": "NameError",
     "evalue": "name 'personel_info' is not defined",
     "output_type": "error",
     "traceback": [
      "\u001b[1;31m---------------------------------------------------------------------------\u001b[0m",
      "\u001b[1;31mNameError\u001b[0m                                 Traceback (most recent call last)",
      "\u001b[1;32md:\\sisterslab\\akademi_egitim\\python_akademi\\6-VeriYapilari_Dictionary.ipynb Cell 29\u001b[0m in \u001b[0;36m<cell line: 4>\u001b[1;34m()\u001b[0m\n\u001b[0;32m      <a href='vscode-notebook-cell:/d%3A/sisterslab/akademi_egitim/python_akademi/6-VeriYapilari_Dictionary.ipynb#X44sZmlsZQ%3D%3D?line=0'>1</a>\u001b[0m \u001b[39m#del dict_name\u001b[39;00m\n\u001b[0;32m      <a href='vscode-notebook-cell:/d%3A/sisterslab/akademi_egitim/python_akademi/6-VeriYapilari_Dictionary.ipynb#X44sZmlsZQ%3D%3D?line=1'>2</a>\u001b[0m \u001b[39mdel\u001b[39;00m personel_info\n\u001b[1;32m----> <a href='vscode-notebook-cell:/d%3A/sisterslab/akademi_egitim/python_akademi/6-VeriYapilari_Dictionary.ipynb#X44sZmlsZQ%3D%3D?line=3'>4</a>\u001b[0m personel_info\n",
      "\u001b[1;31mNameError\u001b[0m: name 'personel_info' is not defined"
     ]
    }
   ],
   "source": [
    "#del dict_name\n",
    "del personel_info\n",
    "\n",
    "personel_info"
   ]
  },
  {
   "cell_type": "code",
   "execution_count": 30,
   "metadata": {},
   "outputs": [
    {
     "data": {
      "text/plain": [
       "{'name': 'İrem',\n",
       " 'TCKN': 21432151,\n",
       " 'start_date': 2019,\n",
       " 'title': 'AI&ML Engineer'}"
      ]
     },
     "execution_count": 30,
     "metadata": {},
     "output_type": "execute_result"
    }
   ],
   "source": [
    "#popitem() -> son eklenen elemanı siler\n",
    "personel_info = {\n",
    "    \"name\":\"İrem\",\n",
    "    \"TCKN\":21432151,\n",
    "    \"start_date\":2019,\n",
    "    \"title\":\"AI&ML Engineer\"\n",
    "}\n",
    "\n",
    "personel_info"
   ]
  },
  {
   "cell_type": "code",
   "execution_count": 31,
   "metadata": {},
   "outputs": [
    {
     "data": {
      "text/plain": [
       "{'name': 'İrem', 'TCKN': 21432151, 'start_date': 2019}"
      ]
     },
     "execution_count": 31,
     "metadata": {},
     "output_type": "execute_result"
    }
   ],
   "source": [
    "personel_info.popitem() #boş bir sözlükten silme işlemi yapılırsa hata verir\n",
    "\n",
    "personel_info"
   ]
  },
  {
   "cell_type": "code",
   "execution_count": 32,
   "metadata": {},
   "outputs": [
    {
     "data": {
      "text/plain": [
       "{'name': 'İrem', 'start_date': 2019}"
      ]
     },
     "execution_count": 32,
     "metadata": {},
     "output_type": "execute_result"
    }
   ],
   "source": [
    "#pop\n",
    "personel_info.pop(\"TCKN\")\n",
    "\n",
    "personel_info"
   ]
  },
  {
   "cell_type": "code",
   "execution_count": 33,
   "metadata": {},
   "outputs": [
    {
     "ename": "KeyError",
     "evalue": "'TCKN'",
     "output_type": "error",
     "traceback": [
      "\u001b[1;31m---------------------------------------------------------------------------\u001b[0m",
      "\u001b[1;31mKeyError\u001b[0m                                  Traceback (most recent call last)",
      "\u001b[1;32md:\\sisterslab\\akademi_egitim\\python_akademi\\6-VeriYapilari_Dictionary.ipynb Cell 33\u001b[0m in \u001b[0;36m<cell line: 1>\u001b[1;34m()\u001b[0m\n\u001b[1;32m----> <a href='vscode-notebook-cell:/d%3A/sisterslab/akademi_egitim/python_akademi/6-VeriYapilari_Dictionary.ipynb#X51sZmlsZQ%3D%3D?line=0'>1</a>\u001b[0m personel_info\u001b[39m.\u001b[39;49mpop(\u001b[39m\"\u001b[39;49m\u001b[39mTCKN\u001b[39;49m\u001b[39m\"\u001b[39;49m)\n\u001b[0;32m      <a href='vscode-notebook-cell:/d%3A/sisterslab/akademi_egitim/python_akademi/6-VeriYapilari_Dictionary.ipynb#X51sZmlsZQ%3D%3D?line=2'>3</a>\u001b[0m personel_info\n",
      "\u001b[1;31mKeyError\u001b[0m: 'TCKN'"
     ]
    }
   ],
   "source": [
    "personel_info.pop(\"TCKN\")\n",
    "\n",
    "personel_info"
   ]
  },
  {
   "cell_type": "markdown",
   "metadata": {},
   "source": [
    "Bir anahtarın varlığını kontrol etme"
   ]
  },
  {
   "cell_type": "code",
   "execution_count": 34,
   "metadata": {},
   "outputs": [
    {
     "data": {
      "text/plain": [
       "{'Adana': 1,\n",
       " 'Antalya': 7,\n",
       " 'Kayseri': 38,\n",
       " 'İzmir': 35,\n",
       " 'Giresun': 28,\n",
       " 'İstanbul': 34}"
      ]
     },
     "execution_count": 34,
     "metadata": {},
     "output_type": "execute_result"
    }
   ],
   "source": [
    "cities = {\"Adana\":1, \"Antalya\":7, \"Kayseri\":38, \"İzmir\": 35, \"Giresun\":28}\n",
    "\n",
    "if \"İstanbul\" not in cities.keys():\n",
    "    cities[\"İstanbul\"] = 34\n",
    "\n",
    "cities"
   ]
  },
  {
   "cell_type": "markdown",
   "metadata": {},
   "source": [
    "iki sözlüğü birleştirme\n",
    "\n",
    "* update\n",
    "* ** ile"
   ]
  },
  {
   "cell_type": "code",
   "execution_count": 35,
   "metadata": {},
   "outputs": [
    {
     "name": "stdout",
     "output_type": "stream",
     "text": [
      "{'Adana': 1, 'Antalya': 7, 'Kayseri': 38, 'İzmir': 35, 'Giresun': 28, 'Manisa': 45, 'Van': 65}\n",
      "{'Manisa': 45, 'Van': 65}\n"
     ]
    }
   ],
   "source": [
    "#update()\n",
    "cities = {\"Adana\":1, \"Antalya\":7, \"Kayseri\":38, \"İzmir\": 35, \"Giresun\":28}\n",
    "cities2 = {\"Manisa\":45, \"Van\":65}\n",
    "\n",
    "cities.update(cities2)\n",
    "\n",
    "print(cities)\n",
    "print(cities2)"
   ]
  },
  {
   "cell_type": "code",
   "execution_count": 36,
   "metadata": {},
   "outputs": [
    {
     "data": {
      "text/plain": [
       "{'Adana': 1,\n",
       " 'Antalya': 7,\n",
       " 'Kayseri': 38,\n",
       " 'İzmir': 35,\n",
       " 'Giresun': 28,\n",
       " 'Manisa': 45,\n",
       " 'Van': 65}"
      ]
     },
     "execution_count": 36,
     "metadata": {},
     "output_type": "execute_result"
    }
   ],
   "source": [
    "# ** ile \n",
    "cities = {\"Adana\":1, \"Antalya\":7, \"Kayseri\":38, \"İzmir\": 35, \"Giresun\":28}\n",
    "cities2 = {\"Manisa\":45, \"Van\":65}\n",
    "\n",
    "new_cities = {**cities, **cities2}\n",
    "new_cities"
   ]
  },
  {
   "cell_type": "code",
   "execution_count": 37,
   "metadata": {},
   "outputs": [
    {
     "data": {
      "text/plain": [
       "{'Adana': 1,\n",
       " 'Antalya': 7,\n",
       " 'Kayseri': 38,\n",
       " 'İzmir': 35,\n",
       " 'Giresun': 28,\n",
       " 'Manisa': 45,\n",
       " 'Van': 65}"
      ]
     },
     "execution_count": 37,
     "metadata": {},
     "output_type": "execute_result"
    }
   ],
   "source": [
    "#her iki sözlükte aynı key değeri yer aldığında son dictionary içindeki key değerinin değeri kabul edilir.\n",
    "cities = {\"Adana\":2, \"Antalya\":7, \"Kayseri\":38, \"İzmir\": 35, \"Giresun\":28}\n",
    "cities2 = {\"Manisa\":45, \"Van\":65, \"Adana\":1}\n",
    "\n",
    "new_cities = {**cities, **cities2}\n",
    "new_cities"
   ]
  },
  {
   "cell_type": "markdown",
   "metadata": {},
   "source": [
    "**Dictionary Kopyalama işlemleri**\n",
    "\n",
    "* copy()\n",
    "* dict()\n",
    "* = operatörü"
   ]
  },
  {
   "cell_type": "code",
   "execution_count": 38,
   "metadata": {},
   "outputs": [],
   "source": [
    "sports = {\n",
    "    1: \"Voleybol\",\n",
    "    2: \"Basketbol\",\n",
    "    3: \"Tenis\",\n",
    "    4: \"Yüzme\",\n",
    "    5: \"Futbol\"\n",
    "}"
   ]
  },
  {
   "cell_type": "code",
   "execution_count": 40,
   "metadata": {},
   "outputs": [
    {
     "name": "stdout",
     "output_type": "stream",
     "text": [
      "{1: 'Voleybol', 2: 'Basketbol', 3: 'Tenis', 4: 'Yüzme', 5: 'Futbol', 6: 'Oryantiring'}\n",
      "{1: 'Voleybol', 2: 'Basketbol', 3: 'Tenis', 4: 'Yüzme', 5: 'Futbol'}\n"
     ]
    }
   ],
   "source": [
    "#copy\n",
    "copy_sports = sports.copy()\n",
    "copy_sports[6] = \"Oryantiring\"\n",
    "\n",
    "print(copy_sports)\n",
    "print(sports)"
   ]
  },
  {
   "cell_type": "code",
   "execution_count": 41,
   "metadata": {},
   "outputs": [
    {
     "name": "stdout",
     "output_type": "stream",
     "text": [
      "{1: 'Voleybol', 2: 'Basketbol', 3: 'Tenis', 4: 'Yüzme', 5: 'Futbol', 6: 'Oryantiring'}\n",
      "{1: 'Voleybol', 2: 'Basketbol', 3: 'Tenis', 4: 'Yüzme', 5: 'Futbol', 6: 'Oryantiring'}\n"
     ]
    }
   ],
   "source": [
    "# = operatörü\n",
    "new_sports = sports\n",
    "new_sports[6] = \"Oryantiring\"\n",
    "\n",
    "print(new_sports)\n",
    "print(sports)"
   ]
  },
  {
   "cell_type": "code",
   "execution_count": 44,
   "metadata": {},
   "outputs": [
    {
     "name": "stdout",
     "output_type": "stream",
     "text": [
      "{1: 'Voleybol', 2: 'Basketbol', 3: 'Tenis', 4: 'Yüzme', 5: 'Futbol', 6: 'Oryantiring'}\n",
      "{1: 'Voleybol', 2: 'Basketbol', 3: 'Tenis', 4: 'Yüzme', 5: 'Futbol'}\n"
     ]
    }
   ],
   "source": [
    "sports = {\n",
    "    1: \"Voleybol\",\n",
    "    2: \"Basketbol\",\n",
    "    3: \"Tenis\",\n",
    "    4: \"Yüzme\",\n",
    "    5: \"Futbol\"\n",
    "}\n",
    "\n",
    "#dict() ile\n",
    "dict_sports = dict(sports)\n",
    "dict_sports[6] = \"Oryantiring\"\n",
    "\n",
    "print(dict_sports)\n",
    "print(sports)"
   ]
  },
  {
   "cell_type": "markdown",
   "metadata": {},
   "source": [
    "**İç içe sözlükler**"
   ]
  },
  {
   "cell_type": "code",
   "execution_count": 45,
   "metadata": {},
   "outputs": [
    {
     "data": {
      "text/plain": [
       "{'name': 'Aysel',\n",
       " 'GSM': '05439720743',\n",
       " 'email': 'aysel.aydin@sisterslab.co',\n",
       " 'adres': {'adana': 'Merkez', 'istanbul': 'Pendik', 'is': 'Maltepe'}}"
      ]
     },
     "execution_count": 45,
     "metadata": {},
     "output_type": "execute_result"
    }
   ],
   "source": [
    "my_info = {\n",
    "   \"name\":\"Aysel\",\n",
    "   \"GSM\": \"05439720743\",\n",
    "   \"email\":\"aysel.aydin@sisterslab.co\",\n",
    "   \"adres\":{\"adana\":\"Merkez\", \"istanbul\":\"Pendik\", \"is\":\"Maltepe\"}\n",
    "}\n",
    "\n",
    "my_info"
   ]
  },
  {
   "cell_type": "code",
   "execution_count": 47,
   "metadata": {},
   "outputs": [
    {
     "data": {
      "text/plain": [
       "'Pendik'"
      ]
     },
     "execution_count": 47,
     "metadata": {},
     "output_type": "execute_result"
    }
   ],
   "source": [
    "my_info[\"adres\"][\"istanbul\"]"
   ]
  },
  {
   "cell_type": "code",
   "execution_count": null,
   "metadata": {},
   "outputs": [],
   "source": [
    "sports = {\n",
    "    9: \"Voleybol\",\n",
    "    2: \"Basketbol\",\n",
    "    8: \"Tenis\",\n",
    "    4: \"Yüzme\",\n",
    "    3: \"Futbol\"\n",
    "}\n",
    "\n",
    "print(sorted(sports.keys()))\n",
    "print(sorted(sports.items()))\n",
    "print(sorted(sports.values()))"
   ]
  },
  {
   "cell_type": "code",
   "execution_count": 55,
   "metadata": {},
   "outputs": [
    {
     "name": "stdout",
     "output_type": "stream",
     "text": [
      "[9, 8, 4, 3, 2]\n",
      "[(9, 'Voleybol'), (8, 'Tenis'), (4, 'Yüzme'), (3, 'Futbol'), (2, 'Basketbol')]\n",
      "['Yüzme', 'Voleybol', 'Tenis', 'Futbol', 'Basketbol']\n"
     ]
    }
   ],
   "source": [
    "print(sorted(sports.keys(), reverse=True))\n",
    "print(sorted(sports.items(), reverse=True))\n",
    "print(sorted(sports.values(), reverse=True))"
   ]
  },
  {
   "cell_type": "code",
   "execution_count": 63,
   "metadata": {},
   "outputs": [
    {
     "data": {
      "text/plain": [
       "{'hidrojen': 9, 'oksijen': 15, 'helyum': 8, 'karbon': 12}"
      ]
     },
     "execution_count": 63,
     "metadata": {},
     "output_type": "execute_result"
    }
   ],
   "source": [
    "#key değerlerinin uzunluğu kadar value değerine ekleme yapalım\n",
    "elements = {\n",
    "    \"hidrojen\":1,\n",
    "    \"oksijen\":8,\n",
    "    \"helyum\":2,\n",
    "    \"karbon\":6\n",
    "}\n",
    "\n",
    "for key, value in elements.items():\n",
    "    elements[key] = len(key) + value\n",
    "\n",
    "elements"
   ]
  },
  {
   "cell_type": "code",
   "execution_count": 64,
   "metadata": {},
   "outputs": [
    {
     "data": {
      "text/plain": [
       "{'Merve': 35, 'Emre': 38, 'Ayşe': 24, 'Asena': 27, 'Ezgi': 31}"
      ]
     },
     "execution_count": 64,
     "metadata": {},
     "output_type": "execute_result"
    }
   ],
   "source": [
    "my_dict1 = {\"Merve\":35, \"Emre\":27, \"Ayşe\":24}\n",
    "my_dict2 = {\"Asena\":27, \"Ezgi\":31, \"Emre\":38}\n",
    "\n",
    "new_dict = {**my_dict1, **my_dict2}\n",
    "new_dict"
   ]
  },
  {
   "cell_type": "code",
   "execution_count": 68,
   "metadata": {},
   "outputs": [
    {
     "data": {
      "text/plain": [
       "{'Merve': 35, 'Emre': 38, 'Ayşe': 24, 'Asena': 27, 'Ezgi': 31}"
      ]
     },
     "execution_count": 68,
     "metadata": {},
     "output_type": "execute_result"
    }
   ],
   "source": [
    "my_dict1.update(my_dict2)\n",
    "my_dict1"
   ]
  },
  {
   "cell_type": "code",
   "execution_count": 69,
   "metadata": {},
   "outputs": [
    {
     "data": {
      "text/plain": [
       "0"
      ]
     },
     "execution_count": 69,
     "metadata": {},
     "output_type": "execute_result"
    }
   ],
   "source": [
    "my_dict = {\n",
    "    \"Python\":\n",
    "        {\n",
    "            \"weeks\":\n",
    "            {\n",
    "                \"data_structures\":\"list\", \n",
    "                \"dict\":\n",
    "                      {\n",
    "                        \"key\":0, \n",
    "                        \"value\":1\n",
    "                      }\n",
    "            }\n",
    "        }\n",
    "    }\n",
    "\n",
    "my_dict[\"Python\"][\"weeks\"][\"dict\"][\"key\"]"
   ]
  },
  {
   "cell_type": "code",
   "execution_count": 70,
   "metadata": {},
   "outputs": [
    {
     "data": {
      "text/plain": [
       "{'Adana': 1, 'İstanbul': 34, 'Van': 65}"
      ]
     },
     "execution_count": 70,
     "metadata": {},
     "output_type": "execute_result"
    }
   ],
   "source": [
    "# iki listeyi birleştirip bir sözlük oluşturalım\n",
    "keys = [\"Adana\", \"İstanbul\", \"Van\"]\n",
    "values = [1, 34, 65]\n",
    "\n",
    "my_dict = {}\n",
    "for i in range(len(keys)):\n",
    "    my_dict.update({keys[i]:values[i]})\n",
    "\n",
    "my_dict"
   ]
  },
  {
   "cell_type": "code",
   "execution_count": 71,
   "metadata": {},
   "outputs": [
    {
     "data": {
      "text/plain": [
       "{'Adana': 1, 'İstanbul': 34, 'Van': 65}"
      ]
     },
     "execution_count": 71,
     "metadata": {},
     "output_type": "execute_result"
    }
   ],
   "source": [
    "keys = [\"Adana\", \"İstanbul\", \"Van\"]\n",
    "values = [1, 34, 65]\n",
    "\n",
    "my_dict = dict(zip(keys, values))\n",
    "\n",
    "my_dict"
   ]
  },
  {
   "cell_type": "code",
   "execution_count": 74,
   "metadata": {},
   "outputs": [
    {
     "data": {
      "text/plain": [
       "{'joey': 'joey_tribbiani',\n",
       " 'rachel': 'rachel_green',\n",
       " 'ross': 'ross_geller',\n",
       " 'monica': 'monica_geller',\n",
       " 'phoebe': 'phoebe_buffay',\n",
       " 'chandler': 'chandler_bing'}"
      ]
     },
     "execution_count": 74,
     "metadata": {},
     "output_type": "execute_result"
    }
   ],
   "source": [
    "#friends dizisinin oyuncularının ismini Joey Tribbiani -> joey_tribbiani\n",
    "friends = {\n",
    "    \"joey\":\"Joey Tribbiani\",\n",
    "    \"rachel\":\"Rachel Green\",\n",
    "    \"ross\":\"Ross Geller\",\n",
    "    \"monica\":\"Monica Geller\",\n",
    "    \"phoebe\":\"Phoebe Buffay\",\n",
    "    \"chandler\":\"Chandler Bing\"\n",
    "}\n",
    "\n",
    "for key, value in friends.items():\n",
    "    friends.update({key:value.replace(\" \", \"_\").lower()})\n",
    "    #friends[key] = value.replace(\" \", \"_\").lower()\n",
    "\n",
    "friends"
   ]
  },
  {
   "cell_type": "code",
   "execution_count": null,
   "metadata": {},
   "outputs": [],
   "source": []
  }
 ],
 "metadata": {
  "kernelspec": {
   "display_name": "Python 3.8.5 ('base')",
   "language": "python",
   "name": "python3"
  },
  "language_info": {
   "codemirror_mode": {
    "name": "ipython",
    "version": 3
   },
   "file_extension": ".py",
   "mimetype": "text/x-python",
   "name": "python",
   "nbconvert_exporter": "python",
   "pygments_lexer": "ipython3",
   "version": "3.8.5"
  },
  "orig_nbformat": 4,
  "vscode": {
   "interpreter": {
    "hash": "85849ef95885899d47daeff0f578b9f8af82a26ba4d539bff16a3c227f835db9"
   }
  }
 },
 "nbformat": 4,
 "nbformat_minor": 2
}
