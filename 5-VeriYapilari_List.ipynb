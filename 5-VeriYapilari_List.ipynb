{
 "cells": [
  {
   "cell_type": "markdown",
   "metadata": {},
   "source": [
    "**Veri Yapıları**\n",
    "\n",
    "* List\n",
    "* Tuple\n",
    "* Set\n",
    "* Dictionary"
   ]
  },
  {
   "cell_type": "markdown",
   "metadata": {},
   "source": [
    "**Listeler**\n",
    "\n",
    "* index ile erişilebilir, ordered yani sıralıdır.\n",
    "* mutable (değiştirilebilir) yani liste içine eklenen bir veri değiştirilebilir.\n",
    "* [] tanımlanır. Liste elemanları da virgüller ile ayrılır.\n",
    "* Farklı tipte veri içerebilir. \n",
    "* Aynı değerlere sahip iki elemana sahip olabilir. Duplicate veri barındırabilir."
   ]
  },
  {
   "cell_type": "code",
   "execution_count": 1,
   "metadata": {},
   "outputs": [],
   "source": [
    "list_int = [1, 6, 8, 4, -1, 1]\n",
    "list_string = [\"Aysel\", \"Melisa\", \"Sude\", \"Ayşe Nur\", \"Melisa\"]\n",
    "list_bool = [True, False]\n",
    "list_float = [1.2, 4.5, 13.6]\n",
    "\n",
    "list_mix = [\"Hatice\", 23, 10000, True, 13.4]"
   ]
  },
  {
   "cell_type": "markdown",
   "metadata": {},
   "source": [
    "Elemanlara index ile erişim"
   ]
  },
  {
   "cell_type": "code",
   "execution_count": 7,
   "metadata": {},
   "outputs": [
    {
     "name": "stdout",
     "output_type": "stream",
     "text": [
      "['Hatice', 23, 10000, True, 13.4]\n",
      "\n",
      "pozitif indexler ile erişim\n",
      "0. index değeri:  Hatice\n",
      "1. index değeri:  23\n",
      "2. index değeri:  10000\n",
      "\n",
      "negatif indexler ile erişim\n",
      "-1. index değeri:  13.4\n",
      "-2. index değeri:  True\n",
      "-3. index değeri:  10000\n"
     ]
    }
   ],
   "source": [
    "print(list_mix)\n",
    "print(\"\\npozitif indexler ile erişim\")\n",
    "print(\"0. index değeri: \", list_mix[0])\n",
    "print(\"1. index değeri: \", list_mix[1])\n",
    "print(\"2. index değeri: \", list_mix[2])\n",
    "\n",
    "print(\"\\nnegatif indexler ile erişim\")\n",
    "print(\"-1. index değeri: \", list_mix[-1])\n",
    "print(\"-2. index değeri: \", list_mix[-2])\n",
    "print(\"-3. index değeri: \", list_mix[-3])"
   ]
  },
  {
   "cell_type": "code",
   "execution_count": 8,
   "metadata": {},
   "outputs": [
    {
     "ename": "IndexError",
     "evalue": "list index out of range",
     "output_type": "error",
     "traceback": [
      "\u001b[1;31m---------------------------------------------------------------------------\u001b[0m",
      "\u001b[1;31mIndexError\u001b[0m                                Traceback (most recent call last)",
      "\u001b[1;32md:\\sisterslab\\akademi_egitim\\python_akademi\\5-VeriYapilari_List.ipynb Cell 6\u001b[0m in \u001b[0;36m<cell line: 1>\u001b[1;34m()\u001b[0m\n\u001b[1;32m----> <a href='vscode-notebook-cell:/d%3A/sisterslab/akademi_egitim/python_akademi/5-VeriYapilari_List.ipynb#X10sZmlsZQ%3D%3D?line=0'>1</a>\u001b[0m list_mix[\u001b[39m7\u001b[39;49m]\n",
      "\u001b[1;31mIndexError\u001b[0m: list index out of range"
     ]
    }
   ],
   "source": [
    "list_mix[7]"
   ]
  },
  {
   "cell_type": "code",
   "execution_count": 9,
   "metadata": {},
   "outputs": [
    {
     "ename": "TypeError",
     "evalue": "list indices must be integers or slices, not float",
     "output_type": "error",
     "traceback": [
      "\u001b[1;31m---------------------------------------------------------------------------\u001b[0m",
      "\u001b[1;31mTypeError\u001b[0m                                 Traceback (most recent call last)",
      "\u001b[1;32md:\\sisterslab\\akademi_egitim\\python_akademi\\5-VeriYapilari_List.ipynb Cell 7\u001b[0m in \u001b[0;36m<cell line: 1>\u001b[1;34m()\u001b[0m\n\u001b[1;32m----> <a href='vscode-notebook-cell:/d%3A/sisterslab/akademi_egitim/python_akademi/5-VeriYapilari_List.ipynb#X11sZmlsZQ%3D%3D?line=0'>1</a>\u001b[0m list_mix[\u001b[39m2.3\u001b[39;49m]\n",
      "\u001b[1;31mTypeError\u001b[0m: list indices must be integers or slices, not float"
     ]
    }
   ],
   "source": [
    "list_mix[2.3]"
   ]
  },
  {
   "cell_type": "markdown",
   "metadata": {},
   "source": [
    "Listelerde uzunluk"
   ]
  },
  {
   "cell_type": "code",
   "execution_count": 11,
   "metadata": {},
   "outputs": [
    {
     "name": "stdout",
     "output_type": "stream",
     "text": [
      "['Hatice', 23, 10000, True, 13.4]\n",
      "Listemizin uzunluğu:  5\n"
     ]
    }
   ],
   "source": [
    "print(list_mix)\n",
    "print(\"Listemizin uzunluğu: \", len(list_mix))"
   ]
  },
  {
   "cell_type": "markdown",
   "metadata": {},
   "source": [
    "Slicing"
   ]
  },
  {
   "cell_type": "code",
   "execution_count": 1,
   "metadata": {},
   "outputs": [
    {
     "name": "stdout",
     "output_type": "stream",
     "text": [
      "['Bilge', 26, 'AI & ML Engineer', True, 15000.34, 'Menekşe', 'Merve', 'Şule']\n"
     ]
    }
   ],
   "source": [
    "my_list = [\"Bilge\", 26, \"AI & ML Engineer\", True, 15000.34, \"Menekşe\", \"Merve\", \"Şule\"]\n",
    "\n",
    "print(my_list)"
   ]
  },
  {
   "cell_type": "code",
   "execution_count": 3,
   "metadata": {},
   "outputs": [
    {
     "name": "stdout",
     "output_type": "stream",
     "text": [
      "['Bilge', 26, 'AI & ML Engineer', True]\n"
     ]
    }
   ],
   "source": [
    "#ilk dört elemanı ekrana basalım\n",
    "print(my_list[0:4])"
   ]
  },
  {
   "cell_type": "code",
   "execution_count": 4,
   "metadata": {},
   "outputs": [
    {
     "name": "stdout",
     "output_type": "stream",
     "text": [
      "['Bilge', 'AI & ML Engineer', 15000.34, 'Merve']\n"
     ]
    }
   ],
   "source": [
    "#her iki elemanda bir atlayarak ekrana bas\n",
    "print(my_list[::2])"
   ]
  },
  {
   "cell_type": "code",
   "execution_count": 5,
   "metadata": {},
   "outputs": [
    {
     "name": "stdout",
     "output_type": "stream",
     "text": [
      "['AI & ML Engineer', True, 15000.34]\n"
     ]
    }
   ],
   "source": [
    "#2 ile 5 index aralığındaki elemanları basalım\n",
    "print(my_list[2:5])"
   ]
  },
  {
   "cell_type": "code",
   "execution_count": 6,
   "metadata": {},
   "outputs": [
    {
     "name": "stdout",
     "output_type": "stream",
     "text": [
      "['Şule', 'Merve', 'Menekşe', 15000.34, True, 'AI & ML Engineer', 26, 'Bilge']\n"
     ]
    }
   ],
   "source": [
    "#Listeyi tersten yazdıralım\n",
    "print(my_list[::-1])"
   ]
  },
  {
   "cell_type": "markdown",
   "metadata": {},
   "source": [
    "Döngüler ile listenin elemanlarını yazdırma"
   ]
  },
  {
   "cell_type": "code",
   "execution_count": 10,
   "metadata": {},
   "outputs": [
    {
     "name": "stdout",
     "output_type": "stream",
     "text": [
      "Ayşe Nur\n",
      "26\n",
      "AI & ML Engineer\n",
      "True\n",
      "15000.34\n",
      "Menekşe\n",
      "Merve\n",
      "Şule\n"
     ]
    }
   ],
   "source": [
    "my_list = [\"Ayşe Nur\", 26, \"AI & ML Engineer\", True, 15000.34, \"Menekşe\", \"Merve\", \"Şule\"]\n",
    "\n",
    "for item in my_list:\n",
    "    print(item)"
   ]
  },
  {
   "cell_type": "markdown",
   "metadata": {},
   "source": [
    "Elemanları yan yana gösterelim"
   ]
  },
  {
   "cell_type": "code",
   "execution_count": 11,
   "metadata": {},
   "outputs": [
    {
     "name": "stdout",
     "output_type": "stream",
     "text": [
      "Ayşe Nur  -  26  -  AI & ML Engineer  -  True  -  15000.34  -  Menekşe  -  Merve  -  Şule  -  "
     ]
    }
   ],
   "source": [
    "for item in my_list:\n",
    "    print(item, end=\"  -  \")"
   ]
  },
  {
   "cell_type": "markdown",
   "metadata": {},
   "source": [
    "indexler üzerinden erişim"
   ]
  },
  {
   "cell_type": "code",
   "execution_count": 14,
   "metadata": {},
   "outputs": [
    {
     "name": "stdout",
     "output_type": "stream",
     "text": [
      "0. index değeri: Ayşe Nur\n",
      "1. index değeri: 26\n",
      "2. index değeri: AI & ML Engineer\n",
      "3. index değeri: True\n",
      "4. index değeri: 15000.34\n",
      "5. index değeri: Menekşe\n",
      "6. index değeri: Merve\n",
      "7. index değeri: Şule\n"
     ]
    }
   ],
   "source": [
    "for i in range(0, len(my_list)):\n",
    "    print(f\"{i}. index değeri: {my_list[i]}\")"
   ]
  },
  {
   "cell_type": "markdown",
   "metadata": {},
   "source": [
    "Listelere Eleman Ekleme\n",
    "\n",
    "* append()\n",
    "* insert() \n",
    "* extend()"
   ]
  },
  {
   "cell_type": "markdown",
   "metadata": {},
   "source": [
    "append() -> Listenin sonuna eklenir."
   ]
  },
  {
   "cell_type": "code",
   "execution_count": 16,
   "metadata": {},
   "outputs": [
    {
     "name": "stdout",
     "output_type": "stream",
     "text": [
      "['Ayşe Nur', 26, 'AI & ML Engineer', True, 15000.34, 'Menekşe', 'Merve', 'Şule']\n",
      "['Ayşe Nur', 26, 'AI & ML Engineer', True, 15000.34, 'Menekşe', 'Merve', 'Şule', 'Edanur']\n"
     ]
    }
   ],
   "source": [
    "my_list = [\"Ayşe Nur\", 26, \"AI & ML Engineer\", True, 15000.34, \"Menekşe\", \"Merve\", \"Şule\"]\n",
    "print(my_list)\n",
    "\n",
    "my_list.append(\"Edanur\")\n",
    "print(my_list)"
   ]
  },
  {
   "cell_type": "markdown",
   "metadata": {},
   "source": [
    "insert() -> istenen indexte konumlandırma yapar"
   ]
  },
  {
   "cell_type": "code",
   "execution_count": 20,
   "metadata": {},
   "outputs": [
    {
     "name": "stdout",
     "output_type": "stream",
     "text": [
      "['Ayşe Nur', 26, 'AI & ML Engineer', True, 15000.34, 'Menekşe', 'Merve', 'Şule']\n",
      "['Ayşe Nur', 'Betül', 26, 'AI & ML Engineer', True, 15000.34, 'Menekşe', 'Merve', 'Şule']\n"
     ]
    }
   ],
   "source": [
    "my_list = [\"Ayşe Nur\", 26, \"AI & ML Engineer\", True, 15000.34, \"Menekşe\", \"Merve\", \"Şule\"]\n",
    "print(my_list)\n",
    "\n",
    "my_list.insert(1, \"Betül\")\n",
    "print(my_list)"
   ]
  },
  {
   "cell_type": "markdown",
   "metadata": {},
   "source": [
    "extend() -> Listenin sonuna ekleme yapar. Birden fazla eleman eklemeye izin verir."
   ]
  },
  {
   "cell_type": "code",
   "execution_count": 26,
   "metadata": {},
   "outputs": [
    {
     "name": "stdout",
     "output_type": "stream",
     "text": [
      "['Ayşe Nur', 26, 'AI & ML Engineer', True, 15000.34, 'Menekşe', 'Merve', 'Şule']\n",
      "['Ayşe Nur', 26, 'AI & ML Engineer', True, 15000.34, 'Menekşe', 'Merve', 'Şule', 1, 2, 3, 4, [5, 6, 7]]\n"
     ]
    }
   ],
   "source": [
    "my_list = [\"Ayşe Nur\", 26, \"AI & ML Engineer\", True, 15000.34, \"Menekşe\", \"Merve\", \"Şule\"]\n",
    "print(my_list)\n",
    "\n",
    "my_list.extend([1, 2, 3, 4, [5, 6, 7]])\n",
    "print(my_list)"
   ]
  },
  {
   "cell_type": "markdown",
   "metadata": {},
   "source": [
    "Liste elemanları üzerinde değişiklik"
   ]
  },
  {
   "cell_type": "code",
   "execution_count": 27,
   "metadata": {},
   "outputs": [
    {
     "name": "stdout",
     "output_type": "stream",
     "text": [
      "Önceki Hali:  [1, 4, 6, 7, 8, 3]\n",
      "Sonraki Hali:  [78, 4, 6, 7, 8, 3]\n"
     ]
    }
   ],
   "source": [
    "my_list = [1, 4, 6, 7, 8, 3]\n",
    "print(\"Önceki Hali: \", my_list)\n",
    "\n",
    "my_list[0] = 78\n",
    "print(\"Sonraki Hali: \", my_list)"
   ]
  },
  {
   "cell_type": "code",
   "execution_count": 28,
   "metadata": {},
   "outputs": [
    {
     "name": "stdout",
     "output_type": "stream",
     "text": [
      "Önceki Hali:  [78, 4, 6, 7, 8, 3]\n",
      "Sonraki Hali:  [78, 12, 13, 14, 8, 3]\n"
     ]
    }
   ],
   "source": [
    "print(\"Önceki Hali: \", my_list)\n",
    "\n",
    "my_list[1:4] = [12, 13, 14]\n",
    "print(\"Sonraki Hali: \", my_list)"
   ]
  },
  {
   "cell_type": "code",
   "execution_count": 31,
   "metadata": {},
   "outputs": [
    {
     "name": "stdout",
     "output_type": "stream",
     "text": [
      "Önceki Hali:  [1, 4, 6, 7, 8, 3]\n",
      "Sonraki Hali:  [2, 5, 7, 8, 9, 4]\n"
     ]
    }
   ],
   "source": [
    "#Listenin tüm elemanlarına 1 ekle\n",
    "my_list = [1, 4, 6, 7, 8, 3]\n",
    "print(\"Önceki Hali: \", my_list)\n",
    "\n",
    "for i in range(0, len(my_list)):\n",
    "    my_list[i] += 1\n",
    "\n",
    "print(\"Sonraki Hali: \", my_list)"
   ]
  },
  {
   "cell_type": "markdown",
   "metadata": {},
   "source": [
    "Listeden Eleman Silme\n",
    "\n",
    "* remove()\n",
    "* pop()\n",
    "* clear()\n",
    "* del()"
   ]
  },
  {
   "cell_type": "code",
   "execution_count": 34,
   "metadata": {},
   "outputs": [],
   "source": [
    "my_list = [0, 1, 2, 3, 4, 1, 5, 6, 7, 8, 1, 9, 10, 11, 2, 12, 13]"
   ]
  },
  {
   "cell_type": "markdown",
   "metadata": {},
   "source": [
    "remove() -> listeden istenen ilk elemanı siler"
   ]
  },
  {
   "cell_type": "code",
   "execution_count": 35,
   "metadata": {},
   "outputs": [
    {
     "name": "stdout",
     "output_type": "stream",
     "text": [
      "Önceki Hali:  [0, 1, 2, 3, 4, 1, 5, 6, 7, 8, 1, 9, 10, 11, 2, 12, 13]\n",
      "Sonraki Hali:  [0, 2, 3, 4, 1, 5, 6, 7, 8, 1, 9, 10, 11, 2, 12, 13]\n"
     ]
    }
   ],
   "source": [
    "print(\"Önceki Hali: \", my_list)\n",
    "\n",
    "my_list.remove(1)\n",
    "print(\"Sonraki Hali: \", my_list)"
   ]
  },
  {
   "cell_type": "markdown",
   "metadata": {},
   "source": [
    "listede olmayan bir elemanın silinmesi"
   ]
  },
  {
   "cell_type": "code",
   "execution_count": 36,
   "metadata": {},
   "outputs": [
    {
     "name": "stdout",
     "output_type": "stream",
     "text": [
      "Önceki Hali:  [0, 2, 3, 4, 1, 5, 6, 7, 8, 1, 9, 10, 11, 2, 12, 13]\n"
     ]
    },
    {
     "ename": "ValueError",
     "evalue": "list.remove(x): x not in list",
     "output_type": "error",
     "traceback": [
      "\u001b[1;31m---------------------------------------------------------------------------\u001b[0m",
      "\u001b[1;31mValueError\u001b[0m                                Traceback (most recent call last)",
      "\u001b[1;32md:\\sisterslab\\akademi_egitim\\python_akademi\\5-VeriYapilari_List.ipynb Cell 38\u001b[0m in \u001b[0;36m<cell line: 3>\u001b[1;34m()\u001b[0m\n\u001b[0;32m      <a href='vscode-notebook-cell:/d%3A/sisterslab/akademi_egitim/python_akademi/5-VeriYapilari_List.ipynb#X54sZmlsZQ%3D%3D?line=0'>1</a>\u001b[0m \u001b[39mprint\u001b[39m(\u001b[39m\"\u001b[39m\u001b[39mÖnceki Hali: \u001b[39m\u001b[39m\"\u001b[39m, my_list)\n\u001b[1;32m----> <a href='vscode-notebook-cell:/d%3A/sisterslab/akademi_egitim/python_akademi/5-VeriYapilari_List.ipynb#X54sZmlsZQ%3D%3D?line=2'>3</a>\u001b[0m my_list\u001b[39m.\u001b[39;49mremove(\u001b[39m100\u001b[39;49m)\n\u001b[0;32m      <a href='vscode-notebook-cell:/d%3A/sisterslab/akademi_egitim/python_akademi/5-VeriYapilari_List.ipynb#X54sZmlsZQ%3D%3D?line=4'>5</a>\u001b[0m \u001b[39mprint\u001b[39m(\u001b[39m\"\u001b[39m\u001b[39mSonraki Hali: \u001b[39m\u001b[39m\"\u001b[39m, my_list)\n",
      "\u001b[1;31mValueError\u001b[0m: list.remove(x): x not in list"
     ]
    }
   ],
   "source": [
    "print(\"Önceki Hali: \", my_list)\n",
    "\n",
    "my_list.remove(100)\n",
    "\n",
    "print(\"Sonraki Hali: \", my_list)"
   ]
  },
  {
   "cell_type": "code",
   "execution_count": 61,
   "metadata": {},
   "outputs": [
    {
     "name": "stdout",
     "output_type": "stream",
     "text": [
      "['Zeynep', 'Betül', 'İrem', 'Nihal', 'İrem']\n"
     ]
    }
   ],
   "source": [
    "my_list = [\"Zeynep\", \"Öykü\", \"Betül\", \"İrem\", \"Nihal\", \"İrem\", \"Öykü\", \"Öykü\"]\n",
    "\n",
    "while \"Öykü\" in my_list:\n",
    "   # my_list.pop(my_list.index(\"Öykü\"))\n",
    "    my_list.remove(\"Öykü\")\n",
    "\n",
    "print(my_list)"
   ]
  },
  {
   "cell_type": "markdown",
   "metadata": {},
   "source": [
    "**pop()** -> Herhangi bir index verilmezse listenin son elemanı silinir. İndex verilirse de ilgili indexteki eleman silinir."
   ]
  },
  {
   "cell_type": "code",
   "execution_count": 38,
   "metadata": {},
   "outputs": [
    {
     "name": "stdout",
     "output_type": "stream",
     "text": [
      "Önceki Hali:  ['Zeynep', 'Öykü', 'Betül', 'İrem', 'Nihal', 'İrem', 'Öykü', 'Öykü']\n",
      "ikinci Hali:  ['Zeynep', 'Öykü', 'Betül', 'İrem', 'Nihal', 'İrem', 'Öykü']\n",
      "Sonraki Hali:  ['Zeynep', 'Öykü', 'İrem', 'Nihal', 'İrem', 'Öykü']\n"
     ]
    }
   ],
   "source": [
    "my_list = [\"Zeynep\", \"Öykü\", \"Betül\", \"İrem\", \"Nihal\", \"İrem\", \"Öykü\", \"Öykü\"]\n",
    "print(\"Önceki Hali: \", my_list)\n",
    "\n",
    "my_list.pop()\n",
    "print(\"ikinci Hali: \", my_list)\n",
    "my_list.pop(2)\n",
    "\n",
    "print(\"Sonraki Hali: \", my_list)"
   ]
  },
  {
   "cell_type": "markdown",
   "metadata": {},
   "source": [
    "del() -> listeyi tamamen siler "
   ]
  },
  {
   "cell_type": "code",
   "execution_count": 40,
   "metadata": {},
   "outputs": [
    {
     "name": "stdout",
     "output_type": "stream",
     "text": [
      "['Zeynep', 'Öykü', 'Betül', 'İrem', 'Nihal', 'İrem', 'Öykü', 'Öykü']\n",
      "['Zeynep', 'İrem', 'Nihal', 'İrem', 'Öykü', 'Öykü']\n"
     ]
    },
    {
     "ename": "NameError",
     "evalue": "name 'my_list' is not defined",
     "output_type": "error",
     "traceback": [
      "\u001b[1;31m---------------------------------------------------------------------------\u001b[0m",
      "\u001b[1;31mNameError\u001b[0m                                 Traceback (most recent call last)",
      "\u001b[1;32md:\\sisterslab\\akademi_egitim\\python_akademi\\5-VeriYapilari_List.ipynb Cell 42\u001b[0m in \u001b[0;36m<cell line: 8>\u001b[1;34m()\u001b[0m\n\u001b[0;32m      <a href='vscode-notebook-cell:/d%3A/sisterslab/akademi_egitim/python_akademi/5-VeriYapilari_List.ipynb#X61sZmlsZQ%3D%3D?line=4'>5</a>\u001b[0m \u001b[39mprint\u001b[39m(my_list)\n\u001b[0;32m      <a href='vscode-notebook-cell:/d%3A/sisterslab/akademi_egitim/python_akademi/5-VeriYapilari_List.ipynb#X61sZmlsZQ%3D%3D?line=6'>7</a>\u001b[0m \u001b[39mdel\u001b[39;00m my_list \u001b[39m#Listeyi tamamen siler\u001b[39;00m\n\u001b[1;32m----> <a href='vscode-notebook-cell:/d%3A/sisterslab/akademi_egitim/python_akademi/5-VeriYapilari_List.ipynb#X61sZmlsZQ%3D%3D?line=7'>8</a>\u001b[0m \u001b[39mprint\u001b[39m(my_list)\n",
      "\u001b[1;31mNameError\u001b[0m: name 'my_list' is not defined"
     ]
    }
   ],
   "source": [
    "my_list = [\"Zeynep\", \"Öykü\", \"Betül\", \"İrem\", \"Nihal\", \"İrem\", \"Öykü\", \"Öykü\"]\n",
    "print(my_list)\n",
    "\n",
    "del my_list[1:3] #belirtilen aralıktaki değerleri siler\n",
    "print(my_list)\n",
    "\n",
    "del my_list #Listeyi tamamen siler\n",
    "print(my_list)"
   ]
  },
  {
   "cell_type": "markdown",
   "metadata": {},
   "source": [
    "clear() -> liste içerisindeki tüm elemanları siler. Çıktı olarak da boş liste döner."
   ]
  },
  {
   "cell_type": "code",
   "execution_count": 41,
   "metadata": {},
   "outputs": [
    {
     "name": "stdout",
     "output_type": "stream",
     "text": [
      "['Zeynep', 'Öykü', 'Betül', 'İrem', 'Nihal', 'İrem', 'Öykü', 'Öykü']\n",
      "[]\n"
     ]
    }
   ],
   "source": [
    "my_list = [\"Zeynep\", \"Öykü\", \"Betül\", \"İrem\", \"Nihal\", \"İrem\", \"Öykü\", \"Öykü\"]\n",
    "print(my_list)\n",
    "\n",
    "my_list.clear()\n",
    "print(my_list)"
   ]
  },
  {
   "cell_type": "markdown",
   "metadata": {},
   "source": [
    "Bir liste içerisinde eleman bulma\n",
    "\n",
    "index()"
   ]
  },
  {
   "cell_type": "code",
   "execution_count": 45,
   "metadata": {},
   "outputs": [
    {
     "name": "stdout",
     "output_type": "stream",
     "text": [
      "2\n"
     ]
    }
   ],
   "source": [
    "movies = [\"Friends\", \"The Office\", \"The Big Bang Theory\", \"Breaking Bad\", \"How I Meet Your Mother\", \"Heartland\"]\n",
    "\n",
    "print(movies.index(\"The Big Bang Theory\"))"
   ]
  },
  {
   "cell_type": "code",
   "execution_count": 46,
   "metadata": {},
   "outputs": [
    {
     "ename": "ValueError",
     "evalue": "'Big Bang Theory' is not in list",
     "output_type": "error",
     "traceback": [
      "\u001b[1;31m---------------------------------------------------------------------------\u001b[0m",
      "\u001b[1;31mValueError\u001b[0m                                Traceback (most recent call last)",
      "\u001b[1;32md:\\sisterslab\\akademi_egitim\\python_akademi\\5-VeriYapilari_List.ipynb Cell 47\u001b[0m in \u001b[0;36m<cell line: 1>\u001b[1;34m()\u001b[0m\n\u001b[1;32m----> <a href='vscode-notebook-cell:/d%3A/sisterslab/akademi_egitim/python_akademi/5-VeriYapilari_List.ipynb#X66sZmlsZQ%3D%3D?line=0'>1</a>\u001b[0m \u001b[39mprint\u001b[39m(movies\u001b[39m.\u001b[39;49mindex(\u001b[39m\"\u001b[39;49m\u001b[39mBig Bang Theory\u001b[39;49m\u001b[39m\"\u001b[39;49m))\n",
      "\u001b[1;31mValueError\u001b[0m: 'Big Bang Theory' is not in list"
     ]
    }
   ],
   "source": [
    "print(movies.index(\"Big Bang Theory\"))"
   ]
  },
  {
   "cell_type": "markdown",
   "metadata": {},
   "source": [
    "İki listeyi concat etme (birleştirme)\n",
    "\n",
    "* **+** operatörü ile\n",
    "* extend() metodu ile"
   ]
  },
  {
   "cell_type": "code",
   "execution_count": 47,
   "metadata": {},
   "outputs": [
    {
     "name": "stdout",
     "output_type": "stream",
     "text": [
      "[1, 2, 3, 4, 5, 6]\n"
     ]
    }
   ],
   "source": [
    "my_list1 = [1, 2, 3]\n",
    "my_list2 = [4, 5, 6]\n",
    "\n",
    "my_list3 = my_list1 + my_list2\n",
    "\n",
    "print(my_list3)"
   ]
  },
  {
   "cell_type": "code",
   "execution_count": 48,
   "metadata": {},
   "outputs": [
    {
     "name": "stdout",
     "output_type": "stream",
     "text": [
      "[1, 2, 3, 4, 5, 6, 1]\n"
     ]
    }
   ],
   "source": [
    "my_list1 = [1, 2, 3]\n",
    "my_list2 = [4, 5, 6, 1]\n",
    "\n",
    "my_list1.extend(my_list2)\n",
    "print(my_list1)"
   ]
  },
  {
   "cell_type": "markdown",
   "metadata": {},
   "source": [
    "Bir Listenin Kopyalanması"
   ]
  },
  {
   "cell_type": "markdown",
   "metadata": {},
   "source": [
    "= atama operatörü ile\n"
   ]
  },
  {
   "cell_type": "code",
   "execution_count": 62,
   "metadata": {},
   "outputs": [
    {
     "name": "stdout",
     "output_type": "stream",
     "text": [
      "[1, 2, 3, 4]\n"
     ]
    }
   ],
   "source": [
    "my_list = [1, 2, 3]\n",
    "\n",
    "new_list = my_list\n",
    "\n",
    "my_list.append(4)\n",
    "print(new_list)"
   ]
  },
  {
   "cell_type": "markdown",
   "metadata": {},
   "source": [
    "copy()"
   ]
  },
  {
   "cell_type": "code",
   "execution_count": 63,
   "metadata": {},
   "outputs": [
    {
     "name": "stdout",
     "output_type": "stream",
     "text": [
      "[1, 2, 3]\n"
     ]
    }
   ],
   "source": [
    "my_list = [1, 2, 3]\n",
    "new_list = my_list.copy()\n",
    "\n",
    "my_list.append(4)\n",
    "print(new_list)"
   ]
  }
 ],
 "metadata": {
  "kernelspec": {
   "display_name": "Python 3.8.5 ('base')",
   "language": "python",
   "name": "python3"
  },
  "language_info": {
   "codemirror_mode": {
    "name": "ipython",
    "version": 3
   },
   "file_extension": ".py",
   "mimetype": "text/x-python",
   "name": "python",
   "nbconvert_exporter": "python",
   "pygments_lexer": "ipython3",
   "version": "3.8.5"
  },
  "orig_nbformat": 4,
  "vscode": {
   "interpreter": {
    "hash": "85849ef95885899d47daeff0f578b9f8af82a26ba4d539bff16a3c227f835db9"
   }
  }
 },
 "nbformat": 4,
 "nbformat_minor": 2
}
