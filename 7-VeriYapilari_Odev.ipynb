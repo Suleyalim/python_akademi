{
 "cells": [
  {
   "cell_type": "markdown",
   "metadata": {},
   "source": [
    "1-Soru: 0 - 20 arasında karışık sırada sayıları tutan bir listenizin olduğunu düşünün. Bu liste içerisinde n tane sayı eksik. n ve eksik sayıları bulunuz.\n",
    "\n",
    "Örnek:\n",
    "my_list = [0, 7, 5, 8, 2] -> 0-10 arasında \n",
    "\n",
    "6 adet sayı eksiktir. Eksik olan sayılar [1, 3, 4, 6, 9, 10]"
   ]
  },
  {
   "cell_type": "code",
   "execution_count": 6,
   "metadata": {},
   "outputs": [
    {
     "name": "stdout",
     "output_type": "stream",
     "text": [
      "[15, 13, 11, 7, 16, 14, 5, 3, 19, 2, 6, 12, 1, 18, 8, 4, 10, 0, 20, 9, 17]\n",
      "[9, 18, 20, 14, 7, 0]\n",
      "[15, 13, 11, 16, 5, 3, 19, 2, 6, 12, 1, 8, 4, 10, 17]\n"
     ]
    }
   ],
   "source": [
    "#listeyi hazırlama\n",
    "import random\n",
    "\n",
    "my_list = [i for i in range(0, 21)]\n",
    "random.shuffle(my_list)\n",
    "\n",
    "#1. yol\n",
    "remove_list = random.sample(my_list, 6)\n",
    "\n",
    "print(my_list)\n",
    "print(remove_list)\n",
    "\n",
    "for i in remove_list:\n",
    "    my_list.remove(i)\n",
    "\n",
    "#2.yol\n",
    "#del my_list[0:6]\n",
    "\n",
    "print(my_list)"
   ]
  },
  {
   "cell_type": "code",
   "execution_count": 7,
   "metadata": {},
   "outputs": [
    {
     "name": "stdout",
     "output_type": "stream",
     "text": [
      "Listemiz içerisinde 6 tane sayı eksiktir. Eksik olan sayılar [0, 7, 9, 14, 18, 20]\n"
     ]
    }
   ],
   "source": [
    "#1.çözüm\n",
    "my_list = [15, 13, 11, 16, 5, 3, 19, 2, 6, 12, 1, 8, 4, 10, 17]\n",
    "\n",
    "missing_list = []\n",
    "for i in range(0, 21):\n",
    "    if i not in my_list:\n",
    "        missing_list.append(i)\n",
    "\n",
    "print(f\"Listemiz içerisinde {len(missing_list)} tane sayı eksiktir. Eksik olan sayılar {missing_list}\")"
   ]
  },
  {
   "cell_type": "code",
   "execution_count": 9,
   "metadata": {},
   "outputs": [
    {
     "name": "stdout",
     "output_type": "stream",
     "text": [
      "Listemiz içerisinde 6 tane sayı eksiktir. Eksik olan sayılar {0, 7, 9, 14, 18, 20}\n"
     ]
    }
   ],
   "source": [
    "#2.çözüm\n",
    "my_list = [15, 13, 11, 16, 5, 3, 19, 2, 6, 12, 1, 8, 4, 10, 17]\n",
    "\n",
    "my_set = {i for i in range(0,21)}\n",
    "\n",
    "difference_set = my_set - set(my_list)\n",
    "print(f\"Listemiz içerisinde {len(difference_set)} tane sayı eksiktir. Eksik olan sayılar {difference_set}\")"
   ]
  },
  {
   "cell_type": "markdown",
   "metadata": {},
   "source": [
    "2-Soru: 0dan 100e kadar karışık sırada sayıları tutan bir listenizin olduğunu düşünün. Bu liste içerisinde bu defa n tane sayı yerine 1 adet sayı eksik. Eksik olan sayıyı bulunuz. "
   ]
  },
  {
   "cell_type": "code",
   "execution_count": null,
   "metadata": {},
   "outputs": [],
   "source": []
  },
  {
   "cell_type": "markdown",
   "metadata": {},
   "source": [
    "3-Soru: Bir liste üzerinde sıralama algoritmasını kullanarak listeyi sıralayınız."
   ]
  },
  {
   "cell_type": "code",
   "execution_count": null,
   "metadata": {},
   "outputs": [],
   "source": []
  },
  {
   "cell_type": "markdown",
   "metadata": {},
   "source": [
    "Fonksiyon bir integer array nums ve bir hedef target değişkeni almalı ve bizlere toplamı target olan indexleri dönmeli.\n",
    "\n",
    "Kurallar:\n",
    "Aynı index’teki değeri iki defa kullanamayız.\n",
    "\n",
    "1. Örnek\n",
    "* Parametreler: nums = [2,7,11,15], target = 9\n",
    "* Dönen Değer: [0,1]\n",
    "* Açıklama: nums[0] ve nums[1]'deki değerlerin toplamı 9 yaptığı için çıktımız [0, 1] oldu.\n",
    "\n",
    "2. Örnek\n",
    "* Parametreler: nums = [3,2,4], target = 6\n",
    "* Dönen Değer: [1,2]\n",
    "* Açıklama: nums[1] ve nums[2]'deki değerlerin toplamı 6 yaptığı için çıktımız [1, 2] oldu.\n",
    "* Not: Burada [0,0] çıktı olarak kabul edilemez. Çünkü aynı index'i kullanamayacağımız söylenmişti.\n",
    "\n",
    "3. Örnek\n",
    "* Parametreler: nums = [3,2,4,1,3], target = 7\n",
    "* Dönen Değer: [2,4]\n",
    "* Açıklama: nums[2] ve nums[4]'deki değerlerin toplamı 7 yaptığı için çıktımız [2, 4] oldu."
   ]
  },
  {
   "cell_type": "code",
   "execution_count": null,
   "metadata": {},
   "outputs": [],
   "source": []
  }
 ],
 "metadata": {
  "kernelspec": {
   "display_name": "Python 3.8.5 ('base')",
   "language": "python",
   "name": "python3"
  },
  "language_info": {
   "codemirror_mode": {
    "name": "ipython",
    "version": 3
   },
   "file_extension": ".py",
   "mimetype": "text/x-python",
   "name": "python",
   "nbconvert_exporter": "python",
   "pygments_lexer": "ipython3",
   "version": "3.8.5"
  },
  "orig_nbformat": 4,
  "vscode": {
   "interpreter": {
    "hash": "85849ef95885899d47daeff0f578b9f8af82a26ba4d539bff16a3c227f835db9"
   }
  }
 },
 "nbformat": 4,
 "nbformat_minor": 2
}
