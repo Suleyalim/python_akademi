{
 "cells": [
  {
   "cell_type": "markdown",
   "metadata": {},
   "source": [
    "**Dosyalama İşlemleri**\n",
    "\n",
    "* Dosyayı açma\n",
    "* Dosyadan veri okuma\n",
    "* Dosyaya yazma\n",
    "* Dosya kapatma"
   ]
  },
  {
   "cell_type": "markdown",
   "metadata": {},
   "source": [
    "open(\"dosya_yolu\", \"erisim_modu\")"
   ]
  },
  {
   "cell_type": "markdown",
   "metadata": {},
   "source": [
    "* w -> Dosyayı yazma amacıyla açar. Bir dosya zaten varsa dosyanın üzerine yazar.\n",
    "* a -> Ekleme modunda dosyayı açar. Dosyanın sonuna yeni satırları ekler."
   ]
  },
  {
   "cell_type": "code",
   "execution_count": 2,
   "metadata": {},
   "outputs": [],
   "source": [
    "f = open(\"names.txt\", \"w\", encoding=\"utf-8\")\n",
    "f.write(\"Rüveyda\")\n",
    "f.write(\"Müzeyyen\")\n",
    "f.write(\"Duygu\")\n",
    "f.write(\"İrem\")\n",
    "f.write(\"Ayşe Nur\")\n",
    "f.close()"
   ]
  },
  {
   "cell_type": "code",
   "execution_count": 3,
   "metadata": {},
   "outputs": [],
   "source": [
    "f = open(\"names.txt\", \"a\", encoding=\"utf-8\")\n",
    "f.write(\"Bilge\")\n",
    "f.close()"
   ]
  },
  {
   "cell_type": "code",
   "execution_count": 20,
   "metadata": {},
   "outputs": [],
   "source": [
    "my_list = [\"Sude\", \"İrem\", \"Nihan\", \"Zeynep\", \"Menekşe\"]\n",
    "f = open(\"names2.txt\", \"w\")\n",
    "for name in my_list:\n",
    "    f.write(name + \"\\n\")\n",
    "f.close()"
   ]
  },
  {
   "cell_type": "code",
   "execution_count": 8,
   "metadata": {},
   "outputs": [
    {
     "name": "stdout",
     "output_type": "stream",
     "text": [
      "['.git', '1-PythonaGiris.ipynb', '2-Donguler.ipynb', '2-Kontrolyapilari.ipynb', '4-Fonksiyonlar.ipynb', '4-Moduller.ipynb', '5-lambda_filter_map.ipynb', '5-VeriYapilari_List.ipynb', '5-VeriYapilari_Tuple.ipynb', '6-VeriYapilari_Dictionary.ipynb', '6-VeriYapilari_Set.ipynb', '7-Dosya_islemleri.ipynb', '7-Exceptions.ipynb', '7-VeriYapilari_Odev.ipynb', 'keywords.png', 'names.txt', 'names2.txt', 'README.md']\n"
     ]
    }
   ],
   "source": [
    "import os\n",
    "\n",
    "print(os.listdir())"
   ]
  },
  {
   "cell_type": "code",
   "execution_count": 11,
   "metadata": {},
   "outputs": [
    {
     "name": "stdout",
     "output_type": "stream",
     "text": [
      "True\n"
     ]
    }
   ],
   "source": [
    "print(os.path.isfile(\"names.txt\"))"
   ]
  },
  {
   "cell_type": "code",
   "execution_count": 12,
   "metadata": {},
   "outputs": [
    {
     "name": "stdout",
     "output_type": "stream",
     "text": [
      "False\n"
     ]
    }
   ],
   "source": [
    "print(os.path.isfile(\"surname.txt\"))"
   ]
  },
  {
   "cell_type": "markdown",
   "metadata": {},
   "source": [
    "Farklı bir dizinde dosya kontrolü"
   ]
  },
  {
   "cell_type": "code",
   "execution_count": 15,
   "metadata": {},
   "outputs": [],
   "source": [
    "f = open(r'C:\\Users\\TCAYSAYDIN\\Desktop\\hello.txt', \"w\")\n",
    "my_list = [\"Sude\", \"İrem\", \"Nihan\", \"Zeynep\", \"Menekşe\"]\n",
    "\n",
    "for i in my_list:\n",
    "    f.write(i + \"\\n\")\n",
    "\n",
    "f.close()"
   ]
  },
  {
   "cell_type": "code",
   "execution_count": 17,
   "metadata": {},
   "outputs": [],
   "source": [
    "nihal = open(\"greetings.txt\", \"w\")\n",
    "nihal.write(\"Hello\")\n",
    "nihal.close()\n",
    "\n",
    "\n",
    "\n",
    "with open(\"greetings.txt\", \"w\") as nihal:\n",
    "    nihal.write(\"Hellooooo\")"
   ]
  },
  {
   "cell_type": "code",
   "execution_count": 19,
   "metadata": {},
   "outputs": [],
   "source": [
    "with open(\"7-Dosya_Ornegi/dosya2/names2.txt\", \"w\") as f:\n",
    "    f.write(\"Müzeyyen\")"
   ]
  },
  {
   "cell_type": "code",
   "execution_count": 10,
   "metadata": {},
   "outputs": [
    {
     "name": "stdout",
     "output_type": "stream",
     "text": [
      "Now:  2022-10-23 11:06:35.852705\n",
      "Gün ay yıl:  23-10-2022\n",
      "Gün ay yıl saat  23-10-2022 11:06:35\n",
      "Farklı dizinde gün ay yıl saat 23-10-2022 11:06:35\n"
     ]
    }
   ],
   "source": [
    "#Belirli aralıklarla çalışan bir kodun, her seferinde o anın \n",
    "#tarih ve saat bilgilerini alarak bir dosya oluşturduğunu varsayalım\n",
    "\n",
    "from datetime import datetime\n",
    "time = datetime.now()\n",
    "print(\"Now: \", time)\n",
    "\n",
    "# gün ay yıl \n",
    "print(\"Gün ay yıl: \", time.strftime(\"%d-%m-%Y\"))\n",
    "file_name = time.strftime(\"%d-%m-%Y.txt\")\n",
    "with open(file_name, \"w\") as f:\n",
    "    f.write(\"gün ay yıl \" + file_name)\n",
    "\n",
    "#gün ay yıl saat dakika\n",
    "print(\"Gün ay yıl saat \", time.strftime(\"%d-%m-%Y %H:%M:%S\"))\n",
    "file_name2 = time.strftime(\"%d-%m-%Y-%H-%M-%S.txt\")\n",
    "with open(file_name2, \"w\") as f:\n",
    "    f.write(\"gün ay yıl saat \" + time.strftime(\"%d-%m-%Y %H:%M:%S\"))\n",
    "\n",
    "#farklı dizinde dosyayı oluşturma\n",
    "print(\"Farklı dizinde gün ay yıl saat \" + time.strftime(\"%d-%m-%Y %H:%M:%S\"))\n",
    "file_name3 = time.strftime(\"%d-%m-%Y-%H-%M-%S.txt\")\n",
    "with open(\"7-Dosya_Ornegi/dosya2/\" + file_name3, \"w\") as f:\n",
    "    f.write(\"Farklı dizinde gün ay yıl saat \" + time.strftime(\"%d-%m-%Y %H:%M:%S\"))"
   ]
  },
  {
   "cell_type": "markdown",
   "metadata": {},
   "source": [
    "Dosya Okuma"
   ]
  },
  {
   "cell_type": "code",
   "execution_count": 22,
   "metadata": {},
   "outputs": [
    {
     "name": "stdout",
     "output_type": "stream",
     "text": [
      "Sude\n",
      "İrem\n",
      "Nihan\n",
      "Zeynep\n",
      "Menekşe\n",
      "\n"
     ]
    }
   ],
   "source": [
    "with open(\"names2.txt\", \"r\") as f:\n",
    "    print(f.read())"
   ]
  },
  {
   "cell_type": "code",
   "execution_count": 23,
   "metadata": {},
   "outputs": [
    {
     "ename": "FileNotFoundError",
     "evalue": "[Errno 2] No such file or directory: 'surname.txt'",
     "output_type": "error",
     "traceback": [
      "\u001b[1;31m---------------------------------------------------------------------------\u001b[0m",
      "\u001b[1;31mFileNotFoundError\u001b[0m                         Traceback (most recent call last)",
      "\u001b[1;32md:\\sisterslab\\akademi_egitim\\python_akademi\\7-Dosya_islemleri.ipynb Cell 16\u001b[0m in \u001b[0;36m<cell line: 1>\u001b[1;34m()\u001b[0m\n\u001b[1;32m----> <a href='vscode-notebook-cell:/d%3A/sisterslab/akademi_egitim/python_akademi/7-Dosya_islemleri.ipynb#X25sZmlsZQ%3D%3D?line=0'>1</a>\u001b[0m \u001b[39mwith\u001b[39;00m \u001b[39mopen\u001b[39;49m(\u001b[39m\"\u001b[39;49m\u001b[39msurname.txt\u001b[39;49m\u001b[39m\"\u001b[39;49m, \u001b[39m\"\u001b[39;49m\u001b[39mr\u001b[39;49m\u001b[39m\"\u001b[39;49m) \u001b[39mas\u001b[39;00m f:\n\u001b[0;32m      <a href='vscode-notebook-cell:/d%3A/sisterslab/akademi_egitim/python_akademi/7-Dosya_islemleri.ipynb#X25sZmlsZQ%3D%3D?line=1'>2</a>\u001b[0m     \u001b[39mprint\u001b[39m(f\u001b[39m.\u001b[39mread())\n",
      "\u001b[1;31mFileNotFoundError\u001b[0m: [Errno 2] No such file or directory: 'surname.txt'"
     ]
    }
   ],
   "source": [
    "#var olmayan bir dosyayı okumaya çalıştığımızda hata alırız.\n",
    "with open(\"surname.txt\", \"r\") as f:\n",
    "    print(f.read())"
   ]
  },
  {
   "cell_type": "code",
   "execution_count": 26,
   "metadata": {},
   "outputs": [
    {
     "name": "stdout",
     "output_type": "stream",
     "text": [
      "Dosya bulunamadı\n"
     ]
    }
   ],
   "source": [
    "#okuma işlemi öncesi dosya kontrolü\n",
    "import os\n",
    "\n",
    "if os.path.exists(\"surname.txt\"):\n",
    "    with open(\"surname.txt\", \"r\") as f:\n",
    "        print(f.read())\n",
    "else:\n",
    "    print(\"Dosya bulunamadı\")"
   ]
  },
  {
   "cell_type": "code",
   "execution_count": 27,
   "metadata": {},
   "outputs": [
    {
     "name": "stdout",
     "output_type": "stream",
     "text": [
      "Sude\n",
      "İrem\n",
      "Nihan\n",
      "Zeynep\n",
      "Menekşe\n",
      "\n"
     ]
    }
   ],
   "source": [
    "#okuma işlemi öncesi dosya kontrolü\n",
    "import os\n",
    "\n",
    "def read_file():\n",
    "    with open(\"surname.txt\", \"r\") as f:\n",
    "        print(f.read())\n",
    "\n",
    "if os.path.exists(\"surname.txt\"):\n",
    "    read_file()\n",
    "else:\n",
    "    my_list = [\"Sude\", \"İrem\", \"Nihan\", \"Zeynep\", \"Menekşe\"]\n",
    "    with open(\"surname.txt\", \"w\") as f:\n",
    "        for name in my_list:\n",
    "            f.write(name + \"\\n\")\n",
    "    read_file()"
   ]
  },
  {
   "cell_type": "markdown",
   "metadata": {},
   "source": [
    "**Dosya Okuma Yöntemleri**\n",
    "\n",
    "readlines() -> Satır satır okuma işlemi yapar ve değerleri bir liste halinde okur"
   ]
  },
  {
   "cell_type": "code",
   "execution_count": 31,
   "metadata": {},
   "outputs": [
    {
     "name": "stdout",
     "output_type": "stream",
     "text": [
      "Sude\n",
      "\n",
      "İrem\n",
      "\n",
      "Nihan\n",
      "\n",
      "Zeynep\n",
      "\n",
      "Menekşe\n",
      "\n"
     ]
    }
   ],
   "source": [
    "with open(\"surname.txt\", \"r\") as f:\n",
    "    lines = f.readlines()\n",
    "    for i in lines:\n",
    "        print(i)"
   ]
  },
  {
   "cell_type": "code",
   "execution_count": 32,
   "metadata": {},
   "outputs": [
    {
     "ename": "UnsupportedOperation",
     "evalue": "not writable",
     "output_type": "error",
     "traceback": [
      "\u001b[1;31m---------------------------------------------------------------------------\u001b[0m",
      "\u001b[1;31mUnsupportedOperation\u001b[0m                      Traceback (most recent call last)",
      "\u001b[1;32md:\\sisterslab\\akademi_egitim\\python_akademi\\7-Dosya_islemleri.ipynb Cell 21\u001b[0m in \u001b[0;36m<cell line: 1>\u001b[1;34m()\u001b[0m\n\u001b[0;32m      <a href='vscode-notebook-cell:/d%3A/sisterslab/akademi_egitim/python_akademi/7-Dosya_islemleri.ipynb#X33sZmlsZQ%3D%3D?line=0'>1</a>\u001b[0m \u001b[39mwith\u001b[39;00m \u001b[39mopen\u001b[39m(\u001b[39m\"\u001b[39m\u001b[39msurname.txt\u001b[39m\u001b[39m\"\u001b[39m, \u001b[39m\"\u001b[39m\u001b[39mr\u001b[39m\u001b[39m\"\u001b[39m) \u001b[39mas\u001b[39;00m f:\n\u001b[1;32m----> <a href='vscode-notebook-cell:/d%3A/sisterslab/akademi_egitim/python_akademi/7-Dosya_islemleri.ipynb#X33sZmlsZQ%3D%3D?line=1'>2</a>\u001b[0m     f\u001b[39m.\u001b[39;49mwrite(\u001b[39m\"\u001b[39;49m\u001b[39mŞule\u001b[39;49m\u001b[39m\"\u001b[39;49m)\n",
      "\u001b[1;31mUnsupportedOperation\u001b[0m: not writable"
     ]
    }
   ],
   "source": [
    "#okuma modunda açılan bir dosyaya ekleme yapmak istersek hata alırız\n",
    "with open(\"surname.txt\", \"r\") as f:\n",
    "    f.write(\"Şule\")"
   ]
  },
  {
   "cell_type": "code",
   "execution_count": 16,
   "metadata": {},
   "outputs": [
    {
     "name": "stdout",
     "output_type": "stream",
     "text": [
      "Sude\n",
      "İrem\n",
      "Nihan\n",
      "Zeynep\n",
      "MenekşeŞule\n",
      "\n"
     ]
    }
   ],
   "source": [
    "with open(\"surname.txt\", \"r+\") as f:\n",
    "    print(f.read())\n",
    "    f.write(\"Şule\\n\")"
   ]
  },
  {
   "cell_type": "code",
   "execution_count": 19,
   "metadata": {},
   "outputs": [
    {
     "name": "stdout",
     "output_type": "stream",
     "text": [
      "Sude\n",
      "\n",
      "İrem\n",
      "\n",
      "Nihan\n",
      "\n",
      "Zeynep\n",
      "\n",
      "Menekşe\n",
      "\n",
      "Şule\n",
      "\n"
     ]
    }
   ],
   "source": [
    "with open(\"surname.txt\", \"r\") as f:\n",
    "    lines = f.readlines()\n",
    "    for i in lines:\n",
    "        print(i)\n"
   ]
  },
  {
   "cell_type": "code",
   "execution_count": 20,
   "metadata": {},
   "outputs": [
    {
     "name": "stdout",
     "output_type": "stream",
     "text": [
      "Şule\n",
      "\n",
      "Menekşe\n",
      "\n",
      "Zeynep\n",
      "\n",
      "Nihan\n",
      "\n",
      "İrem\n",
      "\n",
      "Sude\n",
      "\n"
     ]
    }
   ],
   "source": [
    "with open(\"surname.txt\", \"r\") as f:\n",
    "    lines = f.readlines()\n",
    "    for i in reversed(lines):\n",
    "        print(i)"
   ]
  },
  {
   "cell_type": "markdown",
   "metadata": {},
   "source": [
    "Dosya Yazma\n",
    "\n",
    "* w\n",
    "* w+\n",
    "* a\n",
    "* a+"
   ]
  },
  {
   "cell_type": "markdown",
   "metadata": {},
   "source": [
    "**Dosya yazma yöntemleri**\n",
    "\n",
    "* write()\n",
    "* writelines()"
   ]
  },
  {
   "cell_type": "code",
   "execution_count": 21,
   "metadata": {},
   "outputs": [],
   "source": [
    "with open(\"names.txt\", \"w\") as f:\n",
    "    f.write(\"Merve\")"
   ]
  },
  {
   "cell_type": "code",
   "execution_count": 22,
   "metadata": {},
   "outputs": [],
   "source": [
    "with open(\"names.txt\", \"w\") as f:\n",
    "    f.writelines([\"Başak\", \"\\nDilara\", \"\\nÇevik\"])"
   ]
  },
  {
   "cell_type": "markdown",
   "metadata": {},
   "source": [
    "**Dosya Arama**\n",
    "\n",
    "file.seek(imlec_konumu) -> imlecin nereden başlanacağı bilgisi\n",
    "\n",
    "* file.seek(8)\n",
    "* file.seek(0,2)\n",
    "* file.seek(4,1) \n",
    "* file.seek(-4,1)\n",
    "* file.seek(-4,2)"
   ]
  },
  {
   "cell_type": "code",
   "execution_count": 23,
   "metadata": {},
   "outputs": [
    {
     "name": "stdout",
     "output_type": "stream",
     "text": [
      "de\n",
      "İrem\n",
      "Nihan\n",
      "Zeynep\n",
      "Menekşe\n",
      "Şule\n"
     ]
    }
   ],
   "source": [
    "with open(\"surname.txt\", \"r\") as f:\n",
    "    f.seek(2)\n",
    "    print(f.read())"
   ]
  },
  {
   "cell_type": "code",
   "execution_count": 22,
   "metadata": {},
   "outputs": [
    {
     "name": "stdout",
     "output_type": "stream",
     "text": [
      "\n",
      "Sude\n"
     ]
    }
   ],
   "source": [
    "with open(\"surname.txt\", \"rb\") as f:\n",
    "    f.seek(-5, 2)\n",
    "    print(f.read().decode(\"utf-8\"))"
   ]
  },
  {
   "cell_type": "markdown",
   "metadata": {},
   "source": [
    "**Dosya yeniden adlandırma**\n"
   ]
  },
  {
   "cell_type": "code",
   "execution_count": null,
   "metadata": {},
   "outputs": [],
   "source": [
    "import os\n",
    "\n",
    "os.rename(\"names2.txt\", \"name_list.txt\")\n",
    "#Var olmayan bir dosyanın ismini değiştirmek istediğimizde hata alırız."
   ]
  },
  {
   "cell_type": "markdown",
   "metadata": {},
   "source": [
    "**Dosya Silme**\n",
    "\n"
   ]
  },
  {
   "cell_type": "code",
   "execution_count": 11,
   "metadata": {},
   "outputs": [],
   "source": [
    "import os\n",
    "\n",
    "os.remove(\"name_list.txt\")\n",
    "#Var olmayan bir dosyayı silmeye çalışırsak hata alırız."
   ]
  }
 ],
 "metadata": {
  "kernelspec": {
   "display_name": "Python 3.8.5 ('base')",
   "language": "python",
   "name": "python3"
  },
  "language_info": {
   "codemirror_mode": {
    "name": "ipython",
    "version": 3
   },
   "file_extension": ".py",
   "mimetype": "text/x-python",
   "name": "python",
   "nbconvert_exporter": "python",
   "pygments_lexer": "ipython3",
   "version": "3.8.5"
  },
  "orig_nbformat": 4,
  "vscode": {
   "interpreter": {
    "hash": "85849ef95885899d47daeff0f578b9f8af82a26ba4d539bff16a3c227f835db9"
   }
  }
 },
 "nbformat": 4,
 "nbformat_minor": 2
}
